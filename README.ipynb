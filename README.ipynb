{
 "cells": [
  {
   "cell_type": "markdown",
   "id": "4c37aa21-3c3f-46f4-a95e-0c17e240885f",
   "metadata": {},
   "source": [
    "# NYT Digits\n",
    "NYT Digits is a game in which a player attempts to create a sequence of arithmetic operations that yield a target value.\n",
    "\n",
    "For example, you might be asked to reach 224 given these integers:"
   ]
  },
  {
   "cell_type": "code",
   "execution_count": 1,
   "id": "e6a3043d-def7-455e-91f0-7148a14ff746",
   "metadata": {},
   "outputs": [],
   "source": [
    "digits = [4, 7, 11, 15, 20, 25]\n",
    "target = 224"
   ]
  },
  {
   "cell_type": "markdown",
   "id": "def53649-a8ae-46b5-865f-b3c7ff3c6de9",
   "metadata": {},
   "source": [
    "and these operators:"
   ]
  },
  {
   "cell_type": "code",
   "execution_count": 2,
   "id": "44edac32-70a2-488d-b527-46fcd53025a7",
   "metadata": {},
   "outputs": [],
   "source": [
    "from operator import *\n",
    "def div(a, b):\n",
    "    if a % b == 0:\n",
    "        return a // b\n",
    "    raise ValueError(f\"{b} does not divide {a}\")\n",
    "\n",
    "def sub(a, b):\n",
    "    if a > b:\n",
    "        return a - b\n",
    "    raise ValueError(\"all values must be positive\")\n",
    "    \n",
    "operators = [add, sub, mul, div]"
   ]
  },
  {
   "cell_type": "markdown",
   "id": "ac134a71-a33e-4ff4-91d6-13fb9ba0025b",
   "metadata": {},
   "source": [
    "Once you use a pair of numbers, they are removed from your list and replaced with the output of the operation. If at any time your list contains the target value, you win."
   ]
  },
  {
   "cell_type": "markdown",
   "id": "82c9b9b9-417e-4b95-9b86-30bb5e1714fd",
   "metadata": {},
   "source": [
    "Since this problem has optimal substructure (you can use the solution to a smaller version of the problem to a construct a solution to the larger problem), we can use a dynamic programming approach."
   ]
  },
  {
   "cell_type": "code",
   "execution_count": 3,
   "id": "076858e2-9e74-4a59-b6a8-8d47e36f3888",
   "metadata": {},
   "outputs": [],
   "source": [
    "from itertools import combinations, product\n",
    "\n",
    "def find_sequence(digits, operators, target, operations_sequence):\n",
    "    if target in digits:\n",
    "        return operations_sequence\n",
    "    for op, (a, b) in product(operators, combinations(digits, 2)):\n",
    "        try:\n",
    "            result = op(a, b)\n",
    "        except (ValueError, ArithmeticError):\n",
    "            continue\n",
    "        new_digits = digits.copy()\n",
    "        new_digits.remove(a)\n",
    "        new_digits.remove(b)\n",
    "        new_digits.append(result)\n",
    "        new_seq = operations_sequence.copy()\n",
    "        new_seq.append(f\"{a} {op.__name__} {b} = {result}\")\n",
    "        final_seq = find_sequence(new_digits, operators, target, new_seq)\n",
    "        if final_seq is not None:\n",
    "            return final_seq"
   ]
  },
  {
   "cell_type": "code",
   "execution_count": 4,
   "id": "42278213-0cea-4049-9f54-d234a6e56f36",
   "metadata": {},
   "outputs": [
    {
     "data": {
      "text/plain": [
       "['4 add 7 = 11',\n",
       " '11 add 20 = 31',\n",
       " '25 add 31 = 56',\n",
       " '15 sub 11 = 4',\n",
       " '56 mul 4 = 224']"
      ]
     },
     "execution_count": 4,
     "metadata": {},
     "output_type": "execute_result"
    }
   ],
   "source": [
    "find_sequence(digits, operators, target, [])"
   ]
  },
  {
   "cell_type": "code",
   "execution_count": 5,
   "id": "147775de-a2d0-4c6b-bf08-7336e8c708b2",
   "metadata": {},
   "outputs": [
    {
     "data": {
      "text/plain": [
       "['7 add 15 = 22', '20 add 22 = 42', '8 mul 42 = 336', '5 add 336 = 341']"
      ]
     },
     "execution_count": 5,
     "metadata": {},
     "output_type": "execute_result"
    }
   ],
   "source": [
    "find_sequence([5, 7, 8, 9, 15, 20], operators, 341, [])"
   ]
  },
  {
   "cell_type": "code",
   "execution_count": 6,
   "id": "d24288e5-2ec4-4023-a62e-33116819053f",
   "metadata": {},
   "outputs": [
    {
     "data": {
      "text/plain": [
       "['3 add 9 = 12', '20 sub 12 = 8', '19 mul 23 = 437', '8 add 437 = 445']"
      ]
     },
     "execution_count": 6,
     "metadata": {},
     "output_type": "execute_result"
    }
   ],
   "source": [
    "find_sequence([3, 9, 13, 19, 20, 23], operators, 445, [])"
   ]
  },
  {
   "cell_type": "markdown",
   "id": "322541fc-0bb5-499c-b09e-3d4d4bdae9c0",
   "metadata": {},
   "source": [
    "I'm now curious how many different targets we can reach with the same set of numbers."
   ]
  },
  {
   "cell_type": "code",
   "execution_count": 7,
   "id": "ddf393dd-23c5-4921-9579-7b44fe076b61",
   "metadata": {},
   "outputs": [
    {
     "name": "stdout",
     "output_type": "stream",
     "text": [
      "1 4\n",
      "2 5\n",
      "3 5\n",
      "4 None\n",
      "5 4\n",
      "6 4\n",
      "7 None\n",
      "8 5\n",
      "9 4\n",
      "10 5\n",
      "11 None\n",
      "12 4\n",
      "13 4\n",
      "14 4\n",
      "15 None\n",
      "16 4\n",
      "17 4\n",
      "18 4\n",
      "19 5\n",
      "20 None\n",
      "21 4\n",
      "22 2\n",
      "23 4\n",
      "24 4\n",
      "25 None\n",
      "26 2\n",
      "27 4\n",
      "28 4\n",
      "29 4\n",
      "30 5\n",
      "31 3\n",
      "32 5\n",
      "33 4\n",
      "34 4\n",
      "35 4\n",
      "36 4\n",
      "37 4\n",
      "38 5\n",
      "39 4\n",
      "40 4\n",
      "41 5\n",
      "42 5\n",
      "43 5\n",
      "44 4\n",
      "45 3\n",
      "46 3\n",
      "47 4\n",
      "48 5\n",
      "49 4\n"
     ]
    }
   ],
   "source": [
    "def seq_len(target):\n",
    "    seq = find_sequence(digits, operators, target, [])\n",
    "    return len(seq) if seq else None\n",
    "for t in range(1, 50):\n",
    "    print(t, seq_len(t))"
   ]
  },
  {
   "cell_type": "code",
   "execution_count": 8,
   "id": "d1e73a94-74fd-4923-9a29-046a1a6cf39b",
   "metadata": {},
   "outputs": [],
   "source": [
    "import pandas as pd\n",
    "seq_lengths = pd.Series({t: seq_len(t) for t in range(1000)})\n"
   ]
  },
  {
   "cell_type": "code",
   "execution_count": 9,
   "id": "7538e5e5-743f-44ea-a020-d3a2fb34f8ed",
   "metadata": {},
   "outputs": [
    {
     "data": {
      "text/plain": [
       "<Axes: >"
      ]
     },
     "execution_count": 9,
     "metadata": {},
     "output_type": "execute_result"
    },
    {
     "data": {
      "image/png": "[encoded data removed]",
      "text/plain": [
       "<Figure size 640x480 with 1 Axes>"
      ]
     },
     "metadata": {},
     "output_type": "display_data"
    }
   ],
   "source": [
    "seq_lengths.plot()"
   ]
  },
  {
   "cell_type": "markdown",
   "id": "99eda358-484f-43b3-8984-ebc3becedb36",
   "metadata": {},
   "source": [
    "cool"
   ]
  },
  {
   "cell_type": "code",
   "execution_count": null,
   "id": "84984020-3ced-4e6f-b84b-a042be85a514",
   "metadata": {},
   "outputs": [],
   "source": []
  }
 ],
 "metadata": {
  "kernelspec": {
   "display_name": "Python 3 (ipykernel)",
   "language": "python",
   "name": "python3"
  },
  "language_info": {
   "codemirror_mode": {
    "name": "ipython",
    "version": 3
   },
   "file_extension": ".py",
   "mimetype": "text/x-python",
   "name": "python",
   "nbconvert_exporter": "python",
   "pygments_lexer": "ipython3",
   "version": "3.10.6"
  }
 },
 "nbformat": 4,
 "nbformat_minor": 5
}
